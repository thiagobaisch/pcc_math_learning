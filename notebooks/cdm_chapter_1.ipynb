{
 "cells": [
  {
   "cell_type": "code",
   "execution_count": 7,
   "id": "5121bcc9",
   "metadata": {},
   "outputs": [
    {
     "name": "stdout",
     "output_type": "stream",
     "text": [
      "[['1', 'A'], ['1', 'B'], ['1', 'C'], ['2', 'A'], ['2', 'B'], ['2', 'C'], ['3', 'A'], ['3', 'B'], ['3', 'C']]\n"
     ]
    }
   ],
   "source": [
    "#creating a set\n",
    "A = ['1','2','3']\n",
    "B = ['A', 'B', 'C']\n",
    "\n",
    "S = [[a,b] for a in A for b in B]\n",
    "print(S)\n"
   ]
  },
  {
   "cell_type": "code",
   "execution_count": 1,
   "id": "fde5a4e2",
   "metadata": {},
   "outputs": [
    {
     "name": "stdout",
     "output_type": "stream",
     "text": [
      "PYTHONPATH: /scripts\n",
      "CWD: c:\\Users\\thiag\\Documents\\pcc_math_learning\n",
      "Interpreter: c:\\Users\\thiag\\Documents\\pcc_math_learning\\.venv\\Scripts\\python.exe\n",
      "First 3 sys.path entries:\n",
      "- c:\\scripts\n",
      "- C:\\Program Files\\WindowsApps\\PythonSoftwareFoundation.Python.3.11_3.11.2544.0_x64__qbz5n2kfra8p0\\python311.zip\n",
      "- C:\\Program Files\\WindowsApps\\PythonSoftwareFoundation.Python.3.11_3.11.2544.0_x64__qbz5n2kfra8p0\\DLLs\n"
     ]
    }
   ],
   "source": [
    "import sys, os\n",
    "print(\"PYTHONPATH:\", os.environ.get(\"PYTHONPATH\"))\n",
    "print(\"CWD:\", os.getcwd())\n",
    "print(\"Interpreter:\", sys.executable)\n",
    "print(\"First 3 sys.path entries:\", *sys.path[:3], sep=\"\\n- \")"
   ]
  },
  {
   "cell_type": "code",
   "execution_count": 9,
   "id": "9b7971a3",
   "metadata": {},
   "outputs": [
    {
     "ename": "ModuleNotFoundError",
     "evalue": "No module named 'plotting'",
     "output_type": "error",
     "traceback": [
      "\u001b[31m---------------------------------------------------------------------------\u001b[39m",
      "\u001b[31mModuleNotFoundError\u001b[39m                       Traceback (most recent call last)",
      "\u001b[36mCell\u001b[39m\u001b[36m \u001b[39m\u001b[32mIn[9]\u001b[39m\u001b[32m, line 4\u001b[39m\n\u001b[32m      1\u001b[39m \u001b[38;5;28;01mimport\u001b[39;00m\u001b[38;5;250m \u001b[39m\u001b[34;01msys\u001b[39;00m,\u001b[38;5;250m \u001b[39m\u001b[34;01mos\u001b[39;00m\n\u001b[32m      2\u001b[39m sys.path.append(os.path.abspath(\u001b[33m\"\u001b[39m\u001b[33m../scripts\u001b[39m\u001b[33m\"\u001b[39m))\n\u001b[32m----> \u001b[39m\u001b[32m4\u001b[39m \u001b[38;5;28;01mfrom\u001b[39;00m\u001b[38;5;250m \u001b[39m\u001b[34;01mplotting\u001b[39;00m\u001b[38;5;250m \u001b[39m\u001b[38;5;28;01mimport\u001b[39;00m plot   \u001b[38;5;66;03m# now works from plotting import plot\u001b[39;00m\n\u001b[32m      6\u001b[39m plot(\u001b[32m0\u001b[39m,\u001b[32m3\u001b[39m)\n",
      "\u001b[31mModuleNotFoundError\u001b[39m: No module named 'plotting'"
     ]
    }
   ],
   "source": [
    "import sys, os\n",
    "sys.path.append(os.path.abspath(\"../scripts\"))\n",
    "\n",
    "from plotting import plot   # now works from plotting import plot\n",
    "\n",
    "plot(0,3)\n"
   ]
  }
 ],
 "metadata": {
  "kernelspec": {
   "display_name": ".venv",
   "language": "python",
   "name": "python3"
  },
  "language_info": {
   "codemirror_mode": {
    "name": "ipython",
    "version": 3
   },
   "file_extension": ".py",
   "mimetype": "text/x-python",
   "name": "python",
   "nbconvert_exporter": "python",
   "pygments_lexer": "ipython3",
   "version": "3.11.9"
  }
 },
 "nbformat": 4,
 "nbformat_minor": 5
}
