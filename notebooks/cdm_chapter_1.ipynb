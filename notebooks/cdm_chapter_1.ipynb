{
 "cells": [
  {
   "cell_type": "code",
   "execution_count": null,
   "id": "fde5a4e2",
   "metadata": {},
   "outputs": [],
   "source": [
    "import sys, os\n",
    "print(\"PYTHONPATH:\", os.environ.get(\"PYTHONPATH\"))\n",
    "print(\"CWD:\", os.getcwd())\n",
    "print(\"Interpreter:\", sys.executable)\n",
    "print(\"First 3 sys.path entries:\", *sys.path[:3], sep=\"\\n- \")"
   ]
  },
  {
   "cell_type": "code",
   "execution_count": null,
   "id": "9b7971a3",
   "metadata": {},
   "outputs": [],
   "source": [
    "from mathlearning.plotting import plot\n",
    "\n",
    "plot([(0,6)])\n"
   ]
  },
  {
   "cell_type": "code",
   "execution_count": null,
   "id": "65b5ec97",
   "metadata": {},
   "outputs": [],
   "source": [
    "import pandas as pd\n",
    "pts = [(1,2),(2,3),(3,1),(0,6)]\n",
    "df = pd.DataFrame(pts, columns=[\"x\",\"y\"])\n",
    "df.plot.scatter(x=\"x\", y=\"y\")"
   ]
  },
  {
   "cell_type": "code",
   "execution_count": null,
   "id": "0ec5e77c",
   "metadata": {},
   "outputs": [],
   "source": [
    "import seaborn as sns\n",
    "import pandas as pd\n",
    "pts = [(1,2),(2,3),(3,1)]\n",
    "df = pd.DataFrame(pts, columns=[\"x\",\"y\"])\n",
    "sns.scatterplot(data=df, x=\"x\", y=\"y\")"
   ]
  },
  {
   "cell_type": "code",
   "execution_count": null,
   "id": "f82784d4",
   "metadata": {},
   "outputs": [],
   "source": [
    "import plotly.express as px\n",
    "pts = [(1,2),(2,3),(3,1)]\n",
    "df = pd.DataFrame(pts, columns=[\"x\",\"y\"])\n",
    "fig = px.scatter(df, x=\"x\", y=\"y\")\n",
    "fig.show(renderer=\"browser\")"
   ]
  }
 ],
 "metadata": {
  "kernelspec": {
   "display_name": ".venv",
   "language": "python",
   "name": "python3"
  },
  "language_info": {
   "codemirror_mode": {
    "name": "ipython",
    "version": 3
   },
   "file_extension": ".py",
   "mimetype": "text/x-python",
   "name": "python",
   "nbconvert_exporter": "python",
   "pygments_lexer": "ipython3",
   "version": "3.11.9"
  }
 },
 "nbformat": 4,
 "nbformat_minor": 5
}
