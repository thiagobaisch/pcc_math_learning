{
 "cells": [
  {
   "cell_type": "code",
   "execution_count": 1,
   "id": "5121bcc9",
   "metadata": {},
   "outputs": [
    {
     "name": "stdout",
     "output_type": "stream",
     "text": [
      "[['1', 'A'], ['1', 'B'], ['1', 'C'], ['2', 'A'], ['2', 'B'], ['2', 'C'], ['3', 'A'], ['3', 'B'], ['3', 'C']]\n"
     ]
    }
   ],
   "source": [
    "#creating a set\n",
    "A = ['1','2','3']\n",
    "B = ['A', 'B', 'C']\n",
    "\n",
    "S = [[a,b] for a in A for b in B]\n",
    "print(S)\n"
   ]
  }
 ],
 "metadata": {
  "kernelspec": {
   "display_name": ".venv",
   "language": "python",
   "name": "python3"
  },
  "language_info": {
   "codemirror_mode": {
    "name": "ipython",
    "version": 3
   },
   "file_extension": ".py",
   "mimetype": "text/x-python",
   "name": "python",
   "nbconvert_exporter": "python",
   "pygments_lexer": "ipython3",
   "version": "3.13.1"
  }
 },
 "nbformat": 4,
 "nbformat_minor": 5
}
